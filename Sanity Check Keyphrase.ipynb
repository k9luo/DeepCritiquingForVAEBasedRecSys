{
 "cells": [
  {
   "cell_type": "code",
   "execution_count": 1,
   "metadata": {},
   "outputs": [],
   "source": [
    "import warnings\n",
    "warnings.filterwarnings(\"ignore\")\n",
    "\n",
    "from utils.io import load_numpy\n",
    "from utils.modelnames import models"
   ]
  },
  {
   "cell_type": "markdown",
   "metadata": {},
   "source": [
    "# Dataset Parameters"
   ]
  },
  {
   "cell_type": "code",
   "execution_count": 2,
   "metadata": {},
   "outputs": [],
   "source": [
    "DATA_DIR = \"data/beer/\"\n",
    "TEST_SET = \"Rtest.npz\"\n",
    "TEST_KEYPHRASE_SET = \"Rtest_keyphrase.npz\"\n",
    "TRAIN_SET = \"Rtrain.npz\"\n",
    "TRAIN_KEYPHRASE_SET = \"Rtrain_keyphrase.npz\"\n",
    "VALID_SET = \"Rvalid.npz\"\n",
    "VALID_KEYPHRASE_SET = \"Rvalid_keyphrase.npz\""
   ]
  },
  {
   "cell_type": "markdown",
   "metadata": {},
   "source": [
    "# Algorithm Parameters"
   ]
  },
  {
   "cell_type": "code",
   "execution_count": 3,
   "metadata": {},
   "outputs": [],
   "source": [
    "CORRUPTION = 0.5\n",
    "ENABLE_EVALUATION = True\n",
    "ENABLE_VALIDATION = True\n",
    "ENABLE_KEYPHRASE_BINARIZATION = True\n",
    "EPOCH = 100\n",
    "LAMB = 1.0\n",
    "LEARNING_RATE = 0.0001\n",
    "MODEL = \"E-CDE-VAE\"\n",
    "OPTIMIZER = \"RMSProp\"\n",
    "#OPTIMIZER = \"SGD\"\n",
    "PREDICT_BATCH_SIZE = 128\n",
    "RANK = 200\n",
    "TRAIN_BATCH_SIZE = 128\n",
    "TOP_K = 10"
   ]
  },
  {
   "cell_type": "markdown",
   "metadata": {},
   "source": [
    "# Load Dataset"
   ]
  },
  {
   "cell_type": "code",
   "execution_count": 4,
   "metadata": {},
   "outputs": [],
   "source": [
    "R_train = load_numpy(path=DATA_DIR, name=TRAIN_SET)\n",
    "R_train_keyphrase = load_numpy(path=DATA_DIR, name=TRAIN_KEYPHRASE_SET).toarray()\n",
    "\n",
    "if ENABLE_VALIDATION:\n",
    "    R_valid = load_numpy(path=DATA_DIR, name=VALID_SET)\n",
    "    R_valid_keyphrase = load_numpy(path=DATA_DIR, name=VALID_KEYPHRASE_SET).toarray()\n",
    "else:\n",
    "    R_valid = load_numpy(path=DATA_DIR, name=TEST_SET)\n",
    "    R_valid_keyphrase = load_numpy(path=DATA_DIR, name=TEST_KEYPHRASE_SET).toarray()"
   ]
  },
  {
   "cell_type": "markdown",
   "metadata": {},
   "source": [
    "# Preprocess Keyphrase Frequency"
   ]
  },
  {
   "cell_type": "code",
   "execution_count": 5,
   "metadata": {},
   "outputs": [],
   "source": [
    "if ENABLE_KEYPHRASE_BINARIZATION:\n",
    "    R_train_keyphrase[R_train_keyphrase != 0] = 1\n",
    "    R_valid_keyphrase[R_valid_keyphrase != 0] = 1\n",
    "else:\n",
    "    R_train_keyphrase = R_train_keyphrase/R_train_keyphrase.sum(axis=1, keepdims=True)\n",
    "    R_valid_keyphrase = R_valid_keyphrase/R_valid_keyphrase.sum(axis=1, keepdims=True)\n",
    "\n",
    "    R_train_keyphrase[np.isnan(R_train_keyphrase)] = 0\n",
    "    R_valid_keyphrase[np.isnan(R_valid_keyphrase)] = 0"
   ]
  },
  {
   "cell_type": "code",
   "execution_count": 6,
   "metadata": {},
   "outputs": [
    {
     "name": "stdout",
     "output_type": "stream",
     "text": [
      "WARNING:tensorflow:From /home/hojin/code/Dual-Encoder/models/e_cdevae.py:47: calling dropout (from tensorflow.python.ops.nn_ops) with keep_prob is deprecated and will be removed in a future version.\n",
      "Instructions for updating:\n",
      "Please use `rate` instead of `keep_prob`. Rate should be set to `rate = 1 - keep_prob`.\n",
      "WARNING:tensorflow:From /home/hojin/code/Dual-Encoder/models/e_cdevae.py:54: dense (from tensorflow.python.layers.core) is deprecated and will be removed in a future version.\n",
      "Instructions for updating:\n",
      "Use keras.layers.dense instead.\n",
      "WARNING:tensorflow:From /home/hojin/anaconda3/envs/de/lib/python3.6/site-packages/tensorflow/python/framework/op_def_library.py:263: colocate_with (from tensorflow.python.framework.ops) is deprecated and will be removed in a future version.\n",
      "Instructions for updating:\n",
      "Colocations handled automatically by placer.\n",
      "WARNING:tensorflow:From /home/hojin/anaconda3/envs/de/lib/python3.6/site-packages/tensorflow/python/ops/losses/losses_impl.py:667: to_float (from tensorflow.python.ops.math_ops) is deprecated and will be removed in a future version.\n",
      "Instructions for updating:\n",
      "Use tf.cast instead.\n"
     ]
    },
    {
     "name": "stderr",
     "output_type": "stream",
     "text": [
      "loss:388.6587219238281: 100%|██████████| 100/100 [01:50<00:00,  1.11s/it]\n"
     ]
    }
   ],
   "source": [
    "model = models[MODEL](matrix_train=R_train, epoch=EPOCH, lamb=LAMB,learning_rate=LEARNING_RATE, rank=RANK,\n",
    "                      corruption=CORRUPTION, optimizer=OPTIMIZER, matrix_train_keyphrase=R_train_keyphrase)"
   ]
  },
  {
   "cell_type": "code",
   "execution_count": 7,
   "metadata": {},
   "outputs": [],
   "source": [
    "test_user_id = 0\n",
    "critiqued_keyphrase_id = 1"
   ]
  },
  {
   "cell_type": "code",
   "execution_count": 8,
   "metadata": {},
   "outputs": [
    {
     "name": "stdout",
     "output_type": "stream",
     "text": [
      "(1, 3668) (1, 75)\n"
     ]
    }
   ],
   "source": [
    "rating_score, keyphrase_score = model.predict(R_train[test_user_id].todense())\n",
    "print(rating_score.shape, keyphrase_score.shape)"
   ]
  },
  {
   "cell_type": "code",
   "execution_count": 9,
   "metadata": {},
   "outputs": [
    {
     "data": {
      "text/plain": [
       "array([[0.00075595, 0.01371686, 0.01513602, ..., 0.02269666, 0.00653085,\n",
       "        0.00888007]], dtype=float32)"
      ]
     },
     "execution_count": 9,
     "metadata": {},
     "output_type": "execute_result"
    }
   ],
   "source": [
    "rating_score"
   ]
  },
  {
   "cell_type": "code",
   "execution_count": 10,
   "metadata": {},
   "outputs": [
    {
     "data": {
      "text/plain": [
       "array([[0.93311596, 0.99285877, 0.9578595 , 0.6000492 , 0.73405755,\n",
       "        0.84830976, 0.96702427, 0.60321146, 0.9485503 , 0.79750127,\n",
       "        0.73973453, 0.8784559 , 0.9742421 , 0.70633966, 0.98346776,\n",
       "        0.646184  , 0.9846926 , 0.7434472 , 0.8916441 , 0.7880012 ,\n",
       "        0.7551965 , 0.9458886 , 0.8180127 , 0.6640518 , 0.8071414 ,\n",
       "        0.576111  , 0.75903237, 0.550874  , 0.5984155 , 0.6007401 ,\n",
       "        0.83723414, 0.81836736, 0.49779564, 0.279497  , 0.8068866 ,\n",
       "        0.52114886, 0.8481258 , 0.34998488, 0.72087634, 0.94792604,\n",
       "        0.82533056, 0.7517307 , 0.91745424, 0.97947377, 0.98011285,\n",
       "        0.95832133, 0.29724354, 0.84816396, 0.46704766, 0.19536908,\n",
       "        0.9621602 , 0.8469119 , 0.6754454 , 0.40443456, 0.5027723 ,\n",
       "        0.96627724, 0.7680141 , 0.36941463, 0.94684666, 0.48725563,\n",
       "        0.6857497 , 0.5351463 , 0.7977294 , 0.59255266, 0.74443084,\n",
       "        0.76428795, 0.6182654 , 0.7541481 , 0.80548126, 0.51733077,\n",
       "        0.48707378, 0.72491753, 0.59264684, 0.49626613, 0.669842  ]],\n",
       "      dtype=float32)"
      ]
     },
     "execution_count": 10,
     "metadata": {},
     "output_type": "execute_result"
    }
   ],
   "source": [
    "keyphrase_score"
   ]
  },
  {
   "cell_type": "code",
   "execution_count": 11,
   "metadata": {},
   "outputs": [],
   "source": [
    "keyphrase_score[0][critiqued_keyphrase_id] = 0"
   ]
  },
  {
   "cell_type": "code",
   "execution_count": 12,
   "metadata": {},
   "outputs": [],
   "source": [
    "predict_after_critique = model.refined_predict(R_train[test_user_id].todense(), keyphrase_score)"
   ]
  },
  {
   "cell_type": "code",
   "execution_count": 13,
   "metadata": {},
   "outputs": [
    {
     "data": {
      "text/plain": [
       "(array([[0.00040265, 0.01289102, 0.01486228, ..., 0.01903624, 0.0069465 ,\n",
       "         0.00773069]], dtype=float32),\n",
       " array([[0.91034114, 0.9805778 , 0.93976057, 0.5440376 , 0.6981799 ,\n",
       "         0.8145341 , 0.9479779 , 0.55582243, 0.9252505 , 0.76967025,\n",
       "         0.7084799 , 0.85063434, 0.9554951 , 0.6577572 , 0.96979755,\n",
       "         0.6116021 , 0.9708557 , 0.6954749 , 0.8640554 , 0.7491184 ,\n",
       "         0.70851874, 0.92717946, 0.77798605, 0.6080472 , 0.764972  ,\n",
       "         0.51419485, 0.716915  , 0.4984802 , 0.5508145 , 0.5574199 ,\n",
       "         0.79714626, 0.77088827, 0.45413992, 0.25457224, 0.76126266,\n",
       "         0.46250057, 0.823076  , 0.31205267, 0.668167  , 0.9292846 ,\n",
       "         0.78777903, 0.7147074 , 0.89374644, 0.9646879 , 0.96607715,\n",
       "         0.9424008 , 0.27414244, 0.8203624 , 0.4146729 , 0.16711608,\n",
       "         0.94010115, 0.81955564, 0.6448862 , 0.36230883, 0.4549158 ,\n",
       "         0.949108  , 0.7230292 , 0.32724988, 0.92698455, 0.44688064,\n",
       "         0.6417248 , 0.48385325, 0.7497109 , 0.54266644, 0.698975  ,\n",
       "         0.7296993 , 0.54495376, 0.6943071 , 0.7618298 , 0.48453435,\n",
       "         0.43490022, 0.6859765 , 0.54503405, 0.456832  , 0.6167001 ]],\n",
       "       dtype=float32))"
      ]
     },
     "execution_count": 13,
     "metadata": {},
     "output_type": "execute_result"
    }
   ],
   "source": [
    "predict_after_critique"
   ]
  }
 ],
 "metadata": {
  "kernelspec": {
   "display_name": "Python [conda env:de] *",
   "language": "python",
   "name": "conda-env-de-py"
  },
  "language_info": {
   "codemirror_mode": {
    "name": "ipython",
    "version": 3
   },
   "file_extension": ".py",
   "mimetype": "text/x-python",
   "name": "python",
   "nbconvert_exporter": "python",
   "pygments_lexer": "ipython3",
   "version": "3.6.9"
  }
 },
 "nbformat": 4,
 "nbformat_minor": 2
}
